{
  "cells": [
    {
      "cell_type": "markdown",
      "source": [
        "**Testing ionospheric model NeQuick 2 using Swarm satellite measurements of electron density**\n",
        "\n",
        "\n",
        "---\n",
        "Web: https://gitlab.com/BoryMAndy/\n",
        "\n",
        "Author: Boris Matiushin"
      ],
      "metadata": {
        "id": "f497bGhoG6gk"
      }
    },
    {
      "cell_type": "code",
      "execution_count": null,
      "metadata": {
        "collapsed": true,
        "id": "NO5wHhhxWpTC"
      },
      "outputs": [],
      "source": [
        "! pip install basemap"
      ]
    },
    {
      "cell_type": "code",
      "execution_count": null,
      "metadata": {
        "id": "j0LuAyuDvlcD"
      },
      "outputs": [],
      "source": [
        "# from google.colab import drive\n",
        "# drive.mount('/content/drive')"
      ]
    },
    {
      "cell_type": "code",
      "execution_count": null,
      "metadata": {
        "id": "PWaODa_l5vTD"
      },
      "outputs": [],
      "source": [
        "import csv\n",
        "import os\n",
        "import warnings\n",
        "import matplotlib\n",
        "import datetime as dt\n",
        "import h5py\n",
        "import zipfile\n",
        "\n",
        "import numpy as np\n",
        "import pandas as pd\n",
        "import matplotlib.pyplot as plt\n",
        "import matplotlib.dates as mdates\n",
        "\n",
        "from mpl_toolkits.basemap import Basemap\n",
        "from tqdm.notebook import tqdm\n",
        "\n",
        "\n",
        "warnings.filterwarnings('ignore')\n",
        "matplotlib.rc('text', usetex = False)"
      ]
    },
    {
      "cell_type": "markdown",
      "metadata": {
        "id": "cIa2os67IRK5"
      },
      "source": [
        "Global variables"
      ]
    },
    {
      "cell_type": "code",
      "execution_count": null,
      "metadata": {
        "id": "LgygB61SIP6t"
      },
      "outputs": [],
      "source": [
        "DPI = 650\n",
        "\n",
        "KP_CRIT = 45\n",
        "AE_CRIT = 500\n",
        "\n",
        "PATH_TO_FILE = {'A': 'SWARM_A_fix.txt',\n",
        "                'B': 'SWARM_B_fix.txt',\n",
        "                'C': 'SWARM_C_fix.txt'}"
      ]
    },
    {
      "cell_type": "markdown",
      "metadata": {
        "id": "u8cVL23PNrne"
      },
      "source": [
        "# Functions"
      ]
    },
    {
      "cell_type": "code",
      "execution_count": null,
      "metadata": {
        "id": "aL5QESMH9yGE"
      },
      "outputs": [],
      "source": [
        "# Read file and convert variables\n",
        "def read_res_file(filepath):\n",
        "  data = pd.read_csv(filepath,\n",
        "                     sep = ' ',\n",
        "                     usecols = [0, 1, 3, 4, 5, 6],\n",
        "                     names = ['date', 'time', 'lat', 'lon', 'swarm', 'nq'],\n",
        "                     dtype = {'date': str, 'time': str, 'lat': float, 'lon': float, 'swarm': float, 'nq': float}\n",
        "                     )\n",
        "\n",
        "  data['swarm'] = data['swarm'].rolling(window=31, center=True).mean()\n",
        "  data = data[::31]\n",
        "\n",
        "  # dates converting\n",
        "  data['datetime'] = pd.to_datetime(data['date'] + ' ' + data['time'], format = '%d-%m-%y %H:%M:%S.%f')\n",
        "  data['date'] = pd.to_datetime(data['date'], format = '%d-%m-%y')\n",
        "  # dencity to cubic meteres\n",
        "  data['swarm'] = data['swarm'] * 1000000\n",
        "\n",
        "  data['err_abs'] = (data['nq'] - data['swarm']) / 10**12 # absolute error\n",
        "  data['err_otn'] = 100 * (data['nq'] - data['swarm']) / data['swarm'] # relative error\n",
        "\n",
        "  return data"
      ]
    },
    {
      "cell_type": "code",
      "source": [
        "# reading 2 files for 1 hight\n",
        "def read_AC():\n",
        "  data_A = read_res_file(PATH_TO_FILE['A'])\n",
        "  data_A.to_csv('data_A.csv', index=False)\n",
        "  data_A = 0\n",
        "\n",
        "  data_C = read_res_file(PATH_TO_FILE['C'])\n",
        "  data_A = pd.read_csv('data_A.csv')\n",
        "\n",
        "  data_A['date'] = pd.to_datetime(data_A['date'])\n",
        "  data_A['datetime'] = pd.to_datetime(data_A['datetime'])\n",
        "\n",
        "  data_AC = pd.concat([data_A,\n",
        "                  data_C\n",
        "                  ])\n",
        "  data_A = data_C = 0\n",
        "\n",
        "  return data_AC"
      ],
      "metadata": {
        "id": "cGAVCW9HFHFu"
      },
      "execution_count": null,
      "outputs": []
    },
    {
      "cell_type": "markdown",
      "source": [
        "Next function make net of average values, that receives the format for the coordinate grid, satellite data, dates for processing and produces a matrix for drawing the map. You can also specify which month you want to plot. If the *month* parameter is 0, the annual average is taken."
      ],
      "metadata": {
        "id": "DKvC2J5bNDjq"
      }
    },
    {
      "cell_type": "code",
      "execution_count": null,
      "metadata": {
        "id": "B1oENC9d7YSx"
      },
      "outputs": [],
      "source": [
        "# Make net of averege values\n",
        "def map_fill(data_loc, dates_loc, grip='full', module_val=True, month=0, err = 'err_otn'):\n",
        "\n",
        "  if grip == 'full':\n",
        "    lats = np.arange(-90, 91, 2)\n",
        "    lons = np.arange(-180, 181, 6)\n",
        "    lon, lat = np.meshgrid(lons, lats) # net\n",
        "  elif grip == 'pol':\n",
        "    lats = np.arange(50, 91, 2)\n",
        "    lons = np.arange(-180, 181, 6)\n",
        "    lon, lat = np.meshgrid(lons, lats) # net\n",
        "  else:\n",
        "    raise NameError('requested format is not defined')\n",
        "\n",
        "\n",
        "  print('dates_processing')\n",
        "  # select required month if needed\n",
        "  if month != 0:\n",
        "    dates_loc_mth = []\n",
        "    dates_dt = pd.to_datetime(dates_loc)\n",
        "    for day in dates_dt:\n",
        "      if day.month == month:\n",
        "        dates_loc_mth.append(day)\n",
        "    dates_loc_mth = list(map(np.datetime64, dates_loc_mth))\n",
        "\n",
        "    if len(dates_loc_mth) == 0:\n",
        "      return 'code 0'\n",
        "\n",
        "    prob = data_loc.loc[data_loc['date'].isin(dates_loc_mth)][[err, 'lat', 'lon', 'swarm']]\n",
        "\n",
        "  else:\n",
        "    prob = data_loc.loc[data_loc['date'].isin(dates_loc)][[err, 'lat', 'lon', 'swarm']]\n",
        "\n",
        "\n",
        "  map_filled = []\n",
        "  print('data_processing')\n",
        "  for la in tqdm(lats):\n",
        "    ad = []\n",
        "\n",
        "    for lo in lons:\n",
        "\n",
        "      max_val = np.abs(prob[err]) < 1000\n",
        "      min_val = prob['swarm'] != 0\n",
        "      lat_ge = prob['lat'] >= la - 1\n",
        "      lat_le = prob['lat'] <= la + 1\n",
        "      lon_ge = prob['lon'] >= lo - 3\n",
        "      lon_le = prob['lon'] <= lo + 3\n",
        "\n",
        "      series = prob.loc[lat_ge & lat_le & lon_ge & lon_le\n",
        "                        & max_val & min_val\n",
        "                        ][err] # selecting a spatial square\n",
        "\n",
        "      mean_err = np.nan\n",
        "      if len(series) > 1: # min counts in located square to write result\n",
        "        if module_val == True: # take absolute values depending on parameter\n",
        "          mean_err = np.mean(np.abs(series))\n",
        "        elif module_val == False:\n",
        "          mean_err = np.mean(series)\n",
        "\n",
        "      ad.append(mean_err)\n",
        "\n",
        "\n",
        "    map_filled.append(ad)\n",
        "  return map_filled"
      ]
    },
    {
      "cell_type": "markdown",
      "source": [
        "The following function draws a map of the entire surface of the earth or pole depending on the parameter *grip*."
      ],
      "metadata": {
        "id": "ZjVzRMcgPhxk"
      }
    },
    {
      "cell_type": "code",
      "execution_count": null,
      "metadata": {
        "id": "AiQQqDqY7cGa"
      },
      "outputs": [],
      "source": [
        "def plot_full_map(map_filled_loc, grip='full', name='something_nameless.png'):\n",
        "  if map_filled_loc == 'code 0':\n",
        "    return 'There is no data selected'\n",
        "\n",
        "  if grip == 'full':\n",
        "    proj = 'cyl'\n",
        "    lats = np.arange(-90, 91, 2)\n",
        "    lons = np.arange(-180, 181, 6)\n",
        "    lon, lat = np.meshgrid(lons, lats) # net\n",
        "\n",
        "    map_earth = Basemap(projection=proj,\n",
        "                        llcrnrlat=-90,\n",
        "                        urcrnrlat=90,\n",
        "                        llcrnrlon=-180,\n",
        "                        urcrnrlon=180,\n",
        "                        resolution='c')\n",
        "    x, y = map_earth(lon, lat)\n",
        "    fig = plt.figure(figsize = (10, 8))\n",
        "    map_earth.fillcontinents()\n",
        "    map_earth.drawcoastlines()\n",
        "    grey = plt.pcolormesh(x, y,\n",
        "                          map_filled_loc,\n",
        "                          alpha = 0.9,\n",
        "                          cmap = 'binary'\n",
        "                          )\n",
        "\n",
        "    parallels = np.arange(-90.,91,30.)\n",
        "    # labels = [left,right,top,bottom]\n",
        "    map_earth.drawparallels(parallels,\n",
        "                            labels = [True, True, True, True],\n",
        "                            fontsize = 24,\n",
        "                            #labelstyle='+/-'\n",
        "                            )\n",
        "    meridians = np.arange(0., 361., 60.)\n",
        "    map_earth.drawmeridians(meridians,\n",
        "                            labels = [True, True, True, True],\n",
        "                            fontsize = 24,\n",
        "                            #labelstyle='+/-'\n",
        "                            )\n",
        "    # tick = np.linspace(-0.6, 0.6, 5, endpoint=True)\n",
        "    clrb = plt.colorbar(grey, orientation=\"horizontal\", fraction=0.046, pad=0.07)\n",
        "    # clrb.set_ticks(np.arange(50, 176, 25)) # colorbar ticks\n",
        "    clrb.ax.tick_params(labelsize=20)\n",
        "    clrb.set_label('$\\it{\\Delta}$, %', fontsize=24)\n",
        "\n",
        "\n",
        "  elif grip == 'pol':\n",
        "    proj = 'npstere'\n",
        "    lats = np.arange(50, 91, 2)\n",
        "    lons = np.arange(-180, 181, 6)\n",
        "    lon, lat = np.meshgrid(lons, lats) # net\n",
        "\n",
        "    map_earth = Basemap(projection=proj,\n",
        "                        boundinglat = 60,\n",
        "                        lon_0 = 0,\n",
        "                        resolution = 'l')\n",
        "    x, y = map_earth(lon, lat)\n",
        "    fig = plt.figure(figsize = (10, 8))\n",
        "    map_earth.fillcontinents()\n",
        "    map_earth.drawcoastlines()\n",
        "    plt.pcolormesh(x, y, map_filled_loc, alpha = 0.9, cmap = 'binary')\n",
        "\n",
        "    parallels = np.arange(0.,81,10.)\n",
        "    # labels = [left,right,top,bottom]\n",
        "    map_earth.drawparallels(parallels,\n",
        "                            labels = [False, False, True, False],\n",
        "                            fontsize = 24,\n",
        "                            #labelstyle='+/-'\n",
        "                            )\n",
        "    meridians = np.arange(10., 351., 20.)\n",
        "    map_earth.drawmeridians(meridians,\n",
        "                            labels = [True, False, False, True],\n",
        "                            fontsize = 24,\n",
        "                            #labelstyle='+/-'\n",
        "                            )\n",
        "    clrb = plt.colorbar(format = '%.f')\n",
        "    #clrb.set_ticks(np.arange(30, 51, 5)) # colorbar ticks\n",
        "    clrb.ax.tick_params(labelsize=20)\n",
        "    clrb.set_label('$\\it{\\Delta}$, %', fontsize=24)\n",
        "\n",
        "  plt.savefig(name, dpi=DPI)"
      ]
    },
    {
      "cell_type": "markdown",
      "source": [
        "The following function calculates the average errors in the latitudinal zone from lat0 to lat1, under the klik parameter one can specify geomagnetic conditions for calculation."
      ],
      "metadata": {
        "id": "2bMZtC3xQlTk"
      }
    },
    {
      "cell_type": "code",
      "execution_count": null,
      "metadata": {
        "id": "j7iEfH0l7fTP"
      },
      "outputs": [],
      "source": [
        "def err_lat(datal, lat0=0, lat1=90, klik='storm', module_val=True, err='err_otn'):\n",
        "\n",
        "  min_val = datal['swarm'] != 0\n",
        "\n",
        "  if klik == 'storm':\n",
        "    prob = datal.loc[datal['date'].isin(date64_storm) & min_val][[err, 'lat']] # select corresponding dates\n",
        "\n",
        "    if module_val == True: # take absolute values depending on parameter\n",
        "      err_abs = np.abs(prob.loc[(prob['lat'] >= lat0) & (prob['lat'] <= lat1)][err])\n",
        "    else:\n",
        "      err_abs = prob.loc[(prob['lat'] >= lat0) & (prob['lat'] <= lat1)][err]\n",
        "\n",
        "    meanerr = np.mean(err_abs)\n",
        "    stderr = np.std(err_abs)\n",
        "\n",
        "\n",
        "  elif klik == 'calm':\n",
        "    prob = datal.loc[datal['date'].isin(date64_calm) & min_val][[err, 'lat']] # select corresponding dates\n",
        "\n",
        "    if module_val == True: # take absolute values depending on parameter\n",
        "      err_abs = np.abs(prob.loc[(prob['lat'] >= lat0) & (prob['lat'] <= lat1)][err])\n",
        "    else:\n",
        "      err_abs = prob.loc[(prob['lat'] >= lat0) & (prob['lat'] <= lat1)][err]\n",
        "\n",
        "    meanerr = np.mean(err_abs)\n",
        "    stderr = np.std(err_abs)\n",
        "\n",
        "  else:\n",
        "    raise print('klik = \"calm\" or \"storm\", there are no other options')\n",
        "\n",
        "\n",
        "  return {'error': f\"{meanerr:0.3f}+-{stderr:0.3f}\",\n",
        "          'cardo': len(err_abs)} # capacity"
      ]
    },
    {
      "cell_type": "markdown",
      "source": [
        "Monthly average errors plot for 2014 year northern hemisphere"
      ],
      "metadata": {
        "id": "WSEt47YPB65Z"
      }
    },
    {
      "cell_type": "code",
      "source": [
        "def plot_mnth(datal, err='err_otn', name='slide.png'):\n",
        "  win_size = 20000 # depends on measurements per month\n",
        "\n",
        "  fig, ax = plt.subplots(nrows=3, ncols=1, sharex=True)\n",
        "  names = ['low lat', 'mid lat', 'high lat']\n",
        "  for i, latitude in enumerate([0, 30, 60]):\n",
        "\n",
        "      prob = datal.loc[(datal['lat']>=latitude) & (datal['lat']<=latitude+30) & (datal['swarm'] != 0)][[err, 'datetime']]\n",
        "      prob[err] = np.abs(prob[err])\n",
        "      prob['std'] = prob[err].rolling(window=win_size, center=True).std()\n",
        "      prob[err] = prob[err].rolling(window=win_size, center=True).mean()\n",
        "\n",
        "      prob_frame = pd.DataFrame({'time': prob['datetime'], 'err': prob[err], 'std': prob['std']})\n",
        "      ax[i].plot(prob['datetime'], prob[err], color='black')\n",
        "      ax[i].fill_between(prob['datetime'], prob[err] - prob['std'], prob[err] + prob['std'], color='grey')\n",
        "      ax[i].set_title(names[i])\n",
        "      ax[i].set_ylim(auto=True)\n",
        "      ax[i].set_ylabel('$\\it{\\Delta}$, %', fontsize=12)\n",
        "      ax[i].grid()\n",
        "\n",
        "  myFmt = mdates.DateFormatter('%m') # dates format\n",
        "  ax[i].xaxis.set_major_formatter(myFmt)\n",
        "  ax[i].set_xlabel('date, month')\n",
        "  ax[i].set_xlim(left=pd.to_datetime('01-01-2014'),\n",
        "                 right=pd.to_datetime('31-12-2014'))\n",
        "\n",
        "  plt.tight_layout()\n",
        "  plt.savefig(name, dpi=DPI)"
      ],
      "metadata": {
        "id": "5OUD8QgVB6E9"
      },
      "execution_count": null,
      "outputs": []
    },
    {
      "cell_type": "markdown",
      "metadata": {
        "id": "WkX-Ef8zY1RM"
      },
      "source": [
        "# Indexes of geomagnetic activity"
      ]
    },
    {
      "cell_type": "markdown",
      "metadata": {
        "id": "Y_WNlKiz02Ut"
      },
      "source": [
        "Plot Kp, f107 and AE indexes for entire year\n"
      ]
    },
    {
      "cell_type": "code",
      "execution_count": null,
      "metadata": {
        "id": "lS2ZGdZ001zn"
      },
      "outputs": [],
      "source": [
        "with open('geoindexes_lowlat.dat') as file_kp:\n",
        "  kp = []\n",
        "  time_kp = []\n",
        "\n",
        "  i = 0\n",
        "  for row in file_kp:\n",
        "    if i == 0:\n",
        "      i += 1\n",
        "      continue\n",
        "\n",
        "    time_kp.append(dt.datetime.strptime(row.split()[0] + ' ' + row.split()[1], \"%d-%m-%Y %H:%M\").date())\n",
        "    kp.append(float(row.split()[2]))\n",
        "\n",
        "with open('geoindexes_highlat.txt') as file_ae:\n",
        "  ae = []\n",
        "  time_ae = []\n",
        "\n",
        "  i = 0\n",
        "  for row in file_ae:\n",
        "    if i == 0:\n",
        "      i += 1\n",
        "      continue\n",
        "\n",
        "    time_ae.append(dt.datetime.strptime(row.split()[0] + ' ' + row.split()[1], \"%d/%m/%Y %H:%M\").date())\n",
        "    ae.append(float(row.split()[2]))\n",
        "\n",
        "f107_file = csv.DictReader(open('cls_radio_flux_f107(2014).csv'))\n",
        "time_f107 = []\n",
        "idx_f107 = []\n",
        "for string in f107_file:\n",
        "  idx_f107.append(float(string.get('absolute_f107 (solar flux unit (SFU))')))\n",
        "  time_f107.append(dt.datetime.strptime(string.get('time (yyyy MM dd)'), \"%Y %m %d\").date())\n",
        "\n",
        "fig, ax = plt.subplots(nrows=3, ncols=1, sharex=True)\n",
        "ax[0].plot(time_kp, kp, color='black')\n",
        "ax[1].plot(time_f107, idx_f107, color='black')\n",
        "ax[2].plot(time_ae, ae, color='black')\n",
        "ax[0].hlines(y=KP_CRIT_DS,\n",
        "             xmin=time_kp[0],\n",
        "             xmax=time_kp[-1],\n",
        "             color='grey',\n",
        "             linestyle='dashdot',\n",
        "             linewidth=3\n",
        "             )\n",
        "ax[2].hlines(y=AE_CRIT,\n",
        "             xmin=time_ae[0],\n",
        "             xmax=time_ae[-1],\n",
        "             color='grey',\n",
        "             linestyle='dashdot',\n",
        "             linewidth=3\n",
        "             )\n",
        "ax[0].grid()\n",
        "ax[1].grid()\n",
        "ax[2].grid()\n",
        "\n",
        "ax[2].set_xticklabels(time_ae, rotation=45) # labels rotation\n",
        "\n",
        "for i in range(3): # ticks size\n",
        "  for label in (ax[i].get_xticklabels() + ax[i].get_yticklabels()):\n",
        "    label.set_fontsize(13)\n",
        "\n",
        "\n",
        "ax[0].set_ylabel('$\\it{Kp}$', fontsize=13)\n",
        "ax[2].set_xlabel('Date, month.year', fontsize=13)\n",
        "ax[1].set_ylabel('$\\it{F10.7}$, sfu', fontsize=13)\n",
        "ax[2].set_ylabel('$\\it{AE}$, nT', fontsize=13)\n",
        "\n",
        "myFmt = mdates.DateFormatter('%m.%Y') # date format\n",
        "ax[0].xaxis.set_major_formatter(myFmt)\n",
        "\n",
        "plt.tight_layout()\n",
        "plt.savefig('indexes.png', dpi=DPI)"
      ]
    },
    {
      "cell_type": "markdown",
      "metadata": {
        "id": "NNYdWGWoOTxk"
      },
      "source": [
        "# Division of dates into active (storm) and quiet (calm)"
      ]
    },
    {
      "cell_type": "markdown",
      "metadata": {
        "id": "KeWADT2lLBQP"
      },
      "source": [
        "Find active dates for Kp and AE indexes\n"
      ]
    },
    {
      "cell_type": "code",
      "execution_count": null,
      "metadata": {
        "id": "1ZbJvp32HDcp"
      },
      "outputs": [],
      "source": [
        "with open('geoindexes_lowlat.dat') as file_kp:\n",
        "  date_kp = []\n",
        "\n",
        "  i = 0\n",
        "  for row in file_kp:\n",
        "    if i == 0:\n",
        "      i += 1\n",
        "      continue\n",
        "    if float(row.split()[2]) >= KP_CRIT:\n",
        "      date_kp.append(dt.datetime.strptime(row.split()[0] + ' ' + row.split()[1], \"%d-%m-%Y %H:%M\").date())\n",
        "\n",
        "  date_kp = set(date_kp)"
      ]
    },
    {
      "cell_type": "code",
      "source": [
        "with open('geoindexes_highlat.txt') as file_ae:\n",
        "  date_ae = []\n",
        "  ae = []\n",
        "\n",
        "  i = 0\n",
        "  for row in file_ae:\n",
        "    if i == 0:\n",
        "      i += 1\n",
        "      continue\n",
        "\n",
        "    if float(row.split()[2]) >= AE_CRIT:\n",
        "      date_ae.append(dt.datetime.strptime(row.split()[0] + ' ' + row.split()[1], \"%d/%m/%Y %H:%M\").date())\n",
        "\n",
        "  date_ae = set(date_ae)"
      ],
      "metadata": {
        "id": "tqOoluiBBM8z"
      },
      "execution_count": null,
      "outputs": []
    },
    {
      "cell_type": "code",
      "source": [
        "cross_date = date_kp.intersection(date_ae)"
      ],
      "metadata": {
        "id": "dKJvPQsBDnRr"
      },
      "execution_count": null,
      "outputs": []
    },
    {
      "cell_type": "code",
      "execution_count": null,
      "metadata": {
        "id": "lFYFrihoO116"
      },
      "outputs": [],
      "source": [
        "date64_storm = [] # format converting\n",
        "for _ in date_kp:\n",
        "  date64_storm.append(np.datetime64(_))"
      ]
    },
    {
      "cell_type": "code",
      "execution_count": null,
      "metadata": {
        "id": "4yl-j8l_T86f"
      },
      "outputs": [],
      "source": [
        "begin = dt.datetime.strptime('2014-01-01', '%Y-%m-%d').date()\n",
        "day = dt.timedelta(days = 1)\n",
        "date64_calm = []\n",
        "\n",
        "\n",
        "for i in range(0, 365, 1): # collect calm days of the year\n",
        "  date_temp = np.datetime64((begin + i * day))\n",
        "\n",
        "  if date_temp not in date64_storm:\n",
        "    date64_calm.append(date_temp)"
      ]
    },
    {
      "cell_type": "markdown",
      "metadata": {
        "id": "g7up9Ssg-YxO"
      },
      "source": [
        "# Error maps (460 km)"
      ]
    },
    {
      "cell_type": "code",
      "source": [
        "data_AC = read_AC()"
      ],
      "metadata": {
        "id": "9LEMfcKWVhOA"
      },
      "execution_count": null,
      "outputs": []
    },
    {
      "cell_type": "markdown",
      "source": [
        "storm days:"
      ],
      "metadata": {
        "id": "vWhhTKIbVz91"
      }
    },
    {
      "cell_type": "code",
      "execution_count": null,
      "metadata": {
        "collapsed": true,
        "id": "y18cMgVsjWiv"
      },
      "outputs": [],
      "source": [
        "map_filled = map_fill(data_AC, date64_storm, grip='full', module_val=True, err='err_otn', month=0)\n",
        "plot_full_map(map_filled, 'full', 'map_storm_460.png')"
      ]
    },
    {
      "cell_type": "markdown",
      "source": [
        "calm days:"
      ],
      "metadata": {
        "id": "l0nuUlGTV2lB"
      }
    },
    {
      "cell_type": "code",
      "execution_count": null,
      "metadata": {
        "collapsed": true,
        "id": "fHRfsqY-blXl"
      },
      "outputs": [],
      "source": [
        "plot_full_map(map_fill(data_AC, date64_calm, grip='full', module_val=True, err='err_otn', month=0),\n",
        "              'full',\n",
        "              'map_calm_460.png')"
      ]
    },
    {
      "cell_type": "markdown",
      "metadata": {
        "id": "v0Nel6jTNEMS"
      },
      "source": [
        "Pole maps:"
      ]
    },
    {
      "cell_type": "code",
      "execution_count": null,
      "metadata": {
        "collapsed": true,
        "id": "v3lRUgong2AL"
      },
      "outputs": [],
      "source": [
        "plot_full_map(map_fill(data_AC, date64_calm, grip='pol', module_val=True, err='err_otn', month=0), 'pol', 'map_calm_460_pol.png')"
      ]
    },
    {
      "cell_type": "code",
      "execution_count": null,
      "metadata": {
        "collapsed": true,
        "id": "a9xhgdXslRra"
      },
      "outputs": [],
      "source": [
        "plot_full_map(map_fill(data_AC, date64_storm, grip='pol', module_val=True, err='err_otn', month=0), 'pol', 'map_storm_460_pol.png')"
      ]
    },
    {
      "cell_type": "code",
      "execution_count": null,
      "metadata": {
        "id": "pPo6x0rHweus"
      },
      "outputs": [],
      "source": [
        "data_AC = 0"
      ]
    },
    {
      "cell_type": "markdown",
      "metadata": {
        "id": "WCR-Ykx09K2L"
      },
      "source": [
        "# Error maps (530 km):"
      ]
    },
    {
      "cell_type": "code",
      "execution_count": null,
      "metadata": {
        "collapsed": true,
        "id": "ZMqwPrN34DUz"
      },
      "outputs": [],
      "source": [
        "data_B = read_res_file(PATH_TO_FILE['B'])"
      ]
    },
    {
      "cell_type": "markdown",
      "metadata": {
        "id": "O1J49_sF7S-w"
      },
      "source": [
        "Plot map for each month"
      ]
    },
    {
      "cell_type": "code",
      "execution_count": null,
      "metadata": {
        "collapsed": true,
        "id": "w7DUy0XK64mK"
      },
      "outputs": [],
      "source": [
        "for m in tqdm(range(1, 13, 1)):\n",
        "  plot_full_map(map_fill(data_B, date64_calm, grip='full', module_val=True, month=m, err='err_otn'), 'full', 'map_calm_530 ' + str(m) + '.png')"
      ]
    },
    {
      "cell_type": "markdown",
      "source": [
        "Full map for entire year (calm days)"
      ],
      "metadata": {
        "id": "-PrLcqs9WcdT"
      }
    },
    {
      "cell_type": "code",
      "execution_count": null,
      "metadata": {
        "id": "U4JISKWB7A9M",
        "collapsed": true
      },
      "outputs": [],
      "source": [
        "plot_full_map(map_fill(data_B, date64_calm, grip='full', module_val=True, month=0), 'full', 'map_calm_530.png')"
      ]
    },
    {
      "cell_type": "markdown",
      "source": [
        "Full map for entire year (storm days)"
      ],
      "metadata": {
        "id": "bNsfHj0ZWnDp"
      }
    },
    {
      "cell_type": "code",
      "execution_count": null,
      "metadata": {
        "id": "XPRrp18fxuLo",
        "collapsed": true
      },
      "outputs": [],
      "source": [
        "plot_full_map(map_fill(data_B, date64_storm, grip='full', module_val=True, month=0), 'full', 'map_storm_530.png')"
      ]
    },
    {
      "cell_type": "markdown",
      "metadata": {
        "id": "Q8rhGlDG7WbT"
      },
      "source": [
        "Pole maps:"
      ]
    },
    {
      "cell_type": "code",
      "execution_count": null,
      "metadata": {
        "collapsed": true,
        "id": "7Byxrzbi9mEf"
      },
      "outputs": [],
      "source": [
        "plot_full_map(map_fill(data_B, date64_calm, grip='pol', module_val=True, month=0), 'pol', 'map_calm_530_pol.png')"
      ]
    },
    {
      "cell_type": "code",
      "execution_count": null,
      "metadata": {
        "collapsed": true,
        "id": "lp3CE1pe9xkS"
      },
      "outputs": [],
      "source": [
        "plot_full_map(map_fill(data_B, date64_storm, grip='pol', module_val=True, month=0), 'pol', 'map_strom_530_pol.png')"
      ]
    },
    {
      "cell_type": "markdown",
      "metadata": {
        "id": "4q40xUqN-oJv"
      },
      "source": [
        "# Average annual errors for different latitudinal zones (460 km)"
      ]
    },
    {
      "cell_type": "code",
      "source": [
        "data_AC = read_AC()"
      ],
      "metadata": {
        "id": "BummHwxHw2c1"
      },
      "execution_count": null,
      "outputs": []
    },
    {
      "cell_type": "markdown",
      "metadata": {
        "id": "OYqo52wjWf5U"
      },
      "source": [
        "Calculate MAE and std for storm and calm periods and different zones."
      ]
    },
    {
      "cell_type": "code",
      "execution_count": null,
      "metadata": {
        "id": "R5nr7fNq8MO_"
      },
      "outputs": [],
      "source": [
        "condition = ['calm',\n",
        "             'storm']\n",
        "\n",
        "for k in condition:\n",
        "  print(k)\n",
        "  for latitude in tqdm([#-90, -60, -30,\n",
        "                        0, 30, 60]):\n",
        "    err_res = err_lat(data_AC, lat0=latitude, lat1=latitude + 30, klik=k, module_val=True, err='err_otn')\n",
        "\n",
        "    print(f\"mean error {k} {latitude}-{latitude+30}: {err_res['error']} capacity: {err_res['cardo']}\")"
      ]
    },
    {
      "cell_type": "code",
      "execution_count": null,
      "metadata": {
        "id": "9iGSvjjT4xPP"
      },
      "outputs": [],
      "source": [
        "data_AC = 0 # clean RAM"
      ]
    },
    {
      "cell_type": "markdown",
      "metadata": {
        "id": "5Lb4_016RR4B"
      },
      "source": [
        "# Average annual errors for different latitudinal zones (530 km)"
      ]
    },
    {
      "cell_type": "code",
      "execution_count": null,
      "metadata": {
        "id": "XA_6kW9-4tV_"
      },
      "outputs": [],
      "source": [
        "data_B = read_res_file(PATH_TO_FILE['B'])"
      ]
    },
    {
      "cell_type": "code",
      "execution_count": null,
      "metadata": {
        "id": "jQnaMlWvR1Qz"
      },
      "outputs": [],
      "source": [
        "condition = ['calm', 'storm']\n",
        "\n",
        "for k in condition:\n",
        "  for latitude in tqdm([#-90, -60, -30,\n",
        "                        0, 30, 60]):\n",
        "    err_res = err_lat(data_B, lat0=latitude, lat1=latitude+30, klik=k, module_val=True, err='err_otn')\n",
        "\n",
        "    print(f\"mean error {k} {latitude}-{latitude+30}: {err_res['error']} capacity: {err_res['cardo']}\")"
      ]
    },
    {
      "cell_type": "code",
      "execution_count": null,
      "metadata": {
        "id": "y3X0zCJJ6Yhm"
      },
      "outputs": [],
      "source": [
        "data_B = 0 # clean RAM"
      ]
    },
    {
      "cell_type": "markdown",
      "metadata": {
        "id": "Xzzg7YcbcLrf"
      },
      "source": [
        "# Rolling monthly errors"
      ]
    },
    {
      "cell_type": "code",
      "execution_count": null,
      "metadata": {
        "id": "n9B4vP7VyxdY"
      },
      "outputs": [],
      "source": [
        "data_B = read_res_file(PATH_TO_FILE['B']) # 530 km"
      ]
    },
    {
      "cell_type": "code",
      "execution_count": null,
      "metadata": {
        "id": "Dj0Vwt0Wkjfu"
      },
      "outputs": [],
      "source": [
        "plot_mnth(data_B, name='slide_530.png')"
      ]
    },
    {
      "cell_type": "code",
      "source": [
        "data_B = 0 # clean RAM"
      ],
      "metadata": {
        "id": "j2ROPK_EyHuC"
      },
      "execution_count": null,
      "outputs": []
    },
    {
      "cell_type": "code",
      "source": [
        "data_AC = read_AC()"
      ],
      "metadata": {
        "id": "27MQYlz1yJw7"
      },
      "execution_count": null,
      "outputs": []
    },
    {
      "cell_type": "code",
      "source": [
        "data_AC = data_AC.sort_values('datetime') # due to two sequential datasets"
      ],
      "metadata": {
        "id": "7mif7gihz0Hb"
      },
      "execution_count": null,
      "outputs": []
    },
    {
      "cell_type": "code",
      "source": [
        "plot_mnth(data_AC, name='slide_460.png')"
      ],
      "metadata": {
        "id": "eHah9kY_yWdv"
      },
      "execution_count": null,
      "outputs": []
    },
    {
      "cell_type": "code",
      "source": [
        "data_AC = 0 # clean RAM"
      ],
      "metadata": {
        "id": "RVjrZ5dTIDSy"
      },
      "execution_count": null,
      "outputs": []
    }
  ],
  "metadata": {
    "colab": {
      "collapsed_sections": [
        "u8cVL23PNrne",
        "WkX-Ef8zY1RM",
        "NNYdWGWoOTxk",
        "g7up9Ssg-YxO",
        "WCR-Ykx09K2L",
        "4q40xUqN-oJv",
        "5Lb4_016RR4B",
        "Xzzg7YcbcLrf"
      ],
      "provenance": []
    },
    "kernelspec": {
      "display_name": "Python 3 (ipykernel)",
      "language": "python",
      "name": "python3"
    },
    "language_info": {
      "codemirror_mode": {
        "name": "ipython",
        "version": 3
      },
      "file_extension": ".py",
      "mimetype": "text/x-python",
      "name": "python",
      "nbconvert_exporter": "python",
      "pygments_lexer": "ipython3",
      "version": "3.9.5"
    }
  },
  "nbformat": 4,
  "nbformat_minor": 0
}
